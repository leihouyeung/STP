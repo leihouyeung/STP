{
 "cells": [
  {
   "cell_type": "code",
   "execution_count": 4,
   "id": "b2227d11-8ecc-45a4-961f-37310ac4f53c",
   "metadata": {
    "execution": {
     "iopub.execute_input": "2024-03-26T09:06:56.662099Z",
     "iopub.status.busy": "2024-03-26T09:06:56.661429Z",
     "iopub.status.idle": "2024-03-26T09:06:56.669516Z",
     "shell.execute_reply": "2024-03-26T09:06:56.667953Z",
     "shell.execute_reply.started": "2024-03-26T09:06:56.662036Z"
    },
    "tags": []
   },
   "outputs": [],
   "source": [
    "from STP_utils import *\n",
    "import scanpy as sc\n",
    "import os"
   ]
  },
  {
   "cell_type": "code",
   "execution_count": 5,
   "id": "c4366c89-8b8f-4fa5-8751-cec92d61b96e",
   "metadata": {
    "execution": {
     "iopub.execute_input": "2024-03-26T09:06:58.384846Z",
     "iopub.status.busy": "2024-03-26T09:06:58.384224Z",
     "iopub.status.idle": "2024-03-26T09:06:58.854483Z",
     "shell.execute_reply": "2024-03-26T09:06:58.852756Z",
     "shell.execute_reply.started": "2024-03-26T09:06:58.384787Z"
    },
    "tags": []
   },
   "outputs": [],
   "source": [
    "adata_path = './example/example.h5ad'\n",
    "img_path = './example/example.tiff'\n",
    "save_path = './example_result/'\n",
    "adata = sc.read_h5ad(adata_path)\n",
    "img = cv2.imread(img_path)\n",
    "os.makedirs(save_path,exist_ok=True)"
   ]
  },
  {
   "cell_type": "code",
   "execution_count": 6,
   "id": "b6945520-700a-493c-a079-73fb4b93df1d",
   "metadata": {
    "execution": {
     "iopub.execute_input": "2024-03-26T09:07:18.203571Z",
     "iopub.status.busy": "2024-03-26T09:07:18.202687Z",
     "iopub.status.idle": "2024-03-26T09:08:33.956184Z",
     "shell.execute_reply": "2024-03-26T09:08:33.955046Z",
     "shell.execute_reply.started": "2024-03-26T09:07:18.203507Z"
    },
    "tags": []
   },
   "outputs": [
    {
     "name": "stdout",
     "output_type": "stream",
     "text": [
      "Preprocessing omics data and image...\n"
     ]
    },
    {
     "name": "stderr",
     "output_type": "stream",
     "text": [
      "100%|██████████| 724136/724136 [00:01<00:00, 699916.70it/s]\n"
     ]
    },
    {
     "name": "stdout",
     "output_type": "stream",
     "text": [
      "Segmentation of nuclei.\n"
     ]
    },
    {
     "name": "stderr",
     "output_type": "stream",
     "text": [
      "100%|██████████| 1549/1549 [00:01<00:00, 1190.14it/s]\n",
      "Generating nuclei img: 100%|██████████| 1549/1549 [00:01<00:00, 920.07it/s]\n",
      "100%|██████████| 1549/1549 [00:04<00:00, 331.86it/s] \n"
     ]
    },
    {
     "name": "stdout",
     "output_type": "stream",
     "text": [
      "Expanding the boundaries of nuclei.\n"
     ]
    },
    {
     "name": "stderr",
     "output_type": "stream",
     "text": [
      "Processing all nuclei in Epoch 1: 100%|██████████| 1549/1549 [00:06<00:00, 232.32it/s]\n",
      "Processing all nuclei in Epoch 2: 100%|██████████| 1549/1549 [00:06<00:00, 223.10it/s]\n",
      "Processing all nuclei in Epoch 3: 100%|██████████| 1549/1549 [00:06<00:00, 223.57it/s]\n",
      "Processing all nuclei in Epoch 4: 100%|██████████| 1549/1549 [00:06<00:00, 236.10it/s]\n"
     ]
    }
   ],
   "source": [
    "STP(adata,img,save_path)"
   ]
  },
  {
   "cell_type": "code",
   "execution_count": null,
   "id": "027e5ddf-3ddb-4ccc-b913-589d00c11186",
   "metadata": {},
   "outputs": [],
   "source": []
  }
 ],
 "metadata": {
  "kernelspec": {
   "display_name": "STalign",
   "language": "python",
   "name": "stalign"
  },
  "language_info": {
   "codemirror_mode": {
    "name": "ipython",
    "version": 3
   },
   "file_extension": ".py",
   "mimetype": "text/x-python",
   "name": "python",
   "nbconvert_exporter": "python",
   "pygments_lexer": "ipython3",
   "version": "3.7.12"
  }
 },
 "nbformat": 4,
 "nbformat_minor": 5
}
